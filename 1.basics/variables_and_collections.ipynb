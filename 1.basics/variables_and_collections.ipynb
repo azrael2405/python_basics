{
 "metadata": {
  "language_info": {
   "codemirror_mode": {
    "name": "ipython",
    "version": 3
   },
   "file_extension": ".py",
   "mimetype": "text/x-python",
   "name": "python",
   "nbconvert_exporter": "python",
   "pygments_lexer": "ipython3",
   "version": "3.8.5"
  },
  "orig_nbformat": 4,
  "kernelspec": {
   "name": "python3",
   "display_name": "Python 3.8.5 32-bit"
  },
  "interpreter": {
   "hash": "241fb731dd6f5ea65101631a1c9247244b987683021d8766a5bc39b0fc54124d"
  }
 },
 "nbformat": 4,
 "nbformat_minor": 2,
 "cells": [
  {
   "cell_type": "code",
   "execution_count": 6,
   "metadata": {},
   "outputs": [
    {
     "output_type": "execute_result",
     "data": {
      "text/plain": [
       "\"\\nmultiline comments are strings\\nthe 3 apostrophes (') define the area of the string\\nas you can see, there can be multiple lines within this string\\n\""
      ]
     },
     "metadata": {},
     "execution_count": 6
    }
   ],
   "source": [
    "\n",
    "# single line comments start with a '#'\n",
    "'''\n",
    "multiline comments are strings\n",
    "the 3 apostrophes (') define the area of the string\n",
    "as you can see, there can be multiple lines within this string\n",
    "'''"
   ]
  },
  {
   "source": [
    "\n",
    "\n",
    "# variables:\n",
    "\n",
    "variables can have any type you give them\n",
    "they can also change the type with a new assignment\n",
    "e.g.\n",
    "\n",
    "a = 5        -> defined an integer (Ganzzahl)\n",
    "a = 'test'    -> defined a string (chain of characters)\n",
    "\n",
    "this does not throw an error. 'a' simply changed type from integer to string\n",
    "\n",
    "common types below:\n"
   ],
   "cell_type": "markdown",
   "metadata": {}
  },
  {
   "cell_type": "code",
   "execution_count": 7,
   "metadata": {},
   "outputs": [],
   "source": [
    "a_none = None   # basically the NULL of python\n",
    "a_bool = False\n",
    "an_int = 1\n",
    "a_float = 1.0\n",
    "a_string = 'I am a string'\n",
    "a_byte = bytes()\n",
    "a_list = []\n",
    "another_list = list()\n",
    "a_set = set()\n",
    "a_set_from_list = set(a_list)\n",
    "a_dictionary = {}       # in perl these were called hashes\n",
    "another_dictionary = dict()\n",
    "\n",
    "\n",
    "\n"
   ]
  },
  {
   "source": [
    "# printing\n",
    "\n",
    "there are 2 main ways to printing to console: print() and pprint()\n",
    "\n",
    "- 'print' is part of the default module and will print values in a single line\n",
    "- 'pprint' has to be imported from the pprint module and will print a variable in pretty format (helpful for lists and dictionaries)"
   ],
   "cell_type": "markdown",
   "metadata": {}
  },
  {
   "cell_type": "code",
   "execution_count": 8,
   "metadata": {},
   "outputs": [
    {
     "output_type": "stream",
     "name": "stdout",
     "text": [
      "normal print 1 ; a_float: 1.0\n\ntest_dict: {'key1': 'value1', 'an_int': 42, 'a float': 5.0, 'a_list': ['key1', 1, 6.0, -15.666], 'another_dict': {'its_over': 9000, 'just_testing': True}} \n\npprint:\n{'a float': 5.0,\n 'a_list': ['key1', 1, 6.0, -15.666],\n 'an_int': 42,\n 'another_dict': {'its_over': 9000, 'just_testing': True},\n 'key1': 'value1'}\n\nprinting with pformat\n {'a float': 5.0,\n 'a_list': ['key1', 1, 6.0, -15.666],\n 'an_int': 42,\n 'another_dict': {'its_over': 9000, 'just_testing': True},\n 'key1': 'value1'}\n"
     ]
    }
   ],
   "source": [
    "test_dict = {\n",
    "    'key1': 'value1',\n",
    "    'an_int': 42,\n",
    "    'a float': 5.0,\n",
    "    'a_list': [\n",
    "        'key1',\n",
    "        1,\n",
    "        6.0,\n",
    "        -15.666\n",
    "    ],\n",
    "    'another_dict': {\n",
    "        'its_over': 9000,\n",
    "        'just_testing': True\n",
    "    }\n",
    "}\n",
    "\n",
    "print('normal print', an_int, '; a_float:', a_float)\n",
    "print()\n",
    "print('test_dict:', test_dict, '\\n')\n",
    "\n",
    "from pprint import pprint, pformat\n",
    "print('pprint:')\n",
    "pprint(test_dict)\n",
    "print()\n",
    "\n",
    "print('printing with pformat\\n', pformat(test_dict))"
   ]
  },
  {
   "source": [
    "# collections (list, set, dictionary)\n",
    "\n",
    "lists are an array of values. These values do NOT need to be of the same type\n",
    "\n",
    "sets are the same as lists, but their values are unique. This means there can only be one of every value\n",
    "e.g. a_set = set(\\[1, 1, 2, 3, 3, 'a', 'b', 'a'\\])    --> set(\\[1, 2, 3, 'a', 'b'\\])\n",
    "\n",
    "dictionaries are key -> value pairs where accesing the key will return the value. Keys and values can be of any type whatsoever. Loaded JSON files will always be dictionaries"
   ],
   "cell_type": "markdown",
   "metadata": {}
  },
  {
   "source": [
    "## - list()"
   ],
   "cell_type": "markdown",
   "metadata": {}
  },
  {
   "cell_type": "code",
   "execution_count": 12,
   "metadata": {},
   "outputs": [
    {
     "output_type": "stream",
     "name": "stdout",
     "text": [
      "length of a_list: 14 \n\nprint the 3rd element from a_list: 2\nprint last element of list: fdsa\n\na_list sliced 1 [1:2]: [1]\na_list sliced 2 [1:3]: [1, 2]\na_list sliced with negative: [1, 2, 2, 3, 4, 5, 'a', 'b', 'c', 'c', 'asdf', 'asdf']\na_list sliced with open end: [1, 2, 2, 3, 4, 5, 'a', 'b', 'c', 'c', 'asdf', 'asdf', 'fdsa']\n\ncurrent_list:\n [1, 1, 2, 2, 3, 4, 5, 'a', 'b', 'c', 'c', 'asdf', 'asdf', 'fdsa'] \n\nappended another list:\n [1,\n 1,\n 2,\n 2,\n 3,\n 4,\n 5,\n 'a',\n 'b',\n 'c',\n 'c',\n 'asdf',\n 'asdf',\n 'fdsa',\n [18, 20, 42, 'asdf', 'c']] \n\nextended another list:\n [1,\n 1,\n 2,\n 2,\n 3,\n 4,\n 5,\n 'a',\n 'b',\n 'c',\n 'c',\n 'asdf',\n 'asdf',\n 'fdsa',\n [18, 20, 42, 'asdf', 'c'],\n 18,\n 20,\n 42,\n 'asdf',\n 'c'] \n\nelement from list: c a_list:\n [1,\n 1,\n 2,\n 2,\n 3,\n 4,\n 5,\n 'a',\n 'b',\n 'c',\n 'c',\n 'asdf',\n 'asdf',\n 'fdsa',\n [18, 20, 42, 'asdf', 'c'],\n 18,\n 20,\n 42,\n 'asdf'] \n\na_list after deletion:\n [1, 1, 2, 2, 3, 4, 5, 'a', 'b', 'c', 'c', 'asdf', 'asdf']\n"
     ]
    }
   ],
   "source": [
    "from pprint import pprint, pformat\n",
    "\n",
    "a_list = [1, 1, 2, 2, 3, 4, 5, 'a', 'b', 'c', 'c', 'asdf', 'asdf', 'fdsa']\n",
    "another_list = [18, 20, 42, 'asdf', 'c']\n",
    "\n",
    "# you can get the length of any collection with len(collection)\n",
    "print('length of a_list:', len(a_list), '\\n')\n",
    "\n",
    "# single elements in a list can be accessed by defining their position \n",
    "# position ranges from 0 to list-length - 1\n",
    "print('print the 3rd element from a_list:', a_list[2])\n",
    "print('print last element of list:', a_list[-1])\n",
    "print()\n",
    "\n",
    "# lists can be sliced: a_list[1:5]\n",
    "# the first value value is the start position (included), the second value is the last position(excluded)\n",
    "print('a_list sliced 1 [1:2]:', a_list[1:2])\n",
    "print('a_list sliced 2 [1:3]:', a_list[1:3])\n",
    "print('a_list sliced with negative:', a_list[1:-1])\n",
    "print('a_list sliced with open end:', a_list[1:])\n",
    "print()\n",
    "\n",
    "# add to list with append or extend\n",
    "# append(var) adds the new variable to the end of the list without breaking type\n",
    "# extend(list) adds the values of another list to the end of the current list\n",
    "print('current_list:\\n', pformat(a_list), '\\n')\n",
    "\n",
    "a_list.append(another_list)\n",
    "print('appended another list:\\n', pformat(a_list), '\\n')\n",
    "\n",
    "a_list.extend(another_list)\n",
    "print('extended another list:\\n', pformat(a_list), '\\n')\n",
    "\n",
    "# elements from a list can be removed with either .pop() or del list[pos(:pos)]\n",
    "element = a_list.pop(-1)\n",
    "print('element from list:', element, 'a_list:\\n', pformat(a_list), '\\n')\n",
    "del a_list[-(len(another_list) + 1):]\n",
    "print('a_list after deletion:\\n', pformat(a_list))\n"
   ]
  },
  {
   "source": [
    "## - set()\n",
    "\n",
    "Note: sets don't like lists of lists [ [], [], [] ]"
   ],
   "cell_type": "markdown",
   "metadata": {}
  },
  {
   "cell_type": "code",
   "execution_count": 4,
   "metadata": {},
   "outputs": [
    {
     "output_type": "stream",
     "name": "stdout",
     "text": [
      "a_set length: 10 \n\na_set from a_list:\n {1, 2, 3, 4, 5, 'asdf', 'fdsa', 'c', 'b', 'a'} \n\nanother_set from another_list:\n {'asdf', 'c', 42, 18, 20} \n\nelements of a_set not in another_set:\n {1, 2, 3, 4, 5, 'fdsa', 'b', 'a'} \n\nelements of another_set not in a_set:\n {42, 18, 20} \n\nintersected_list from a_set - another_set:\n [1, 2, 3, 4, 5, 'fdsa', 'b', 'a'] \n\n"
     ]
    }
   ],
   "source": [
    "from pprint import pprint, pformat\n",
    "\n",
    "a_list = [1, 1, 2, 2, 3, 4, 5, 'a', 'b', 'c', 'c', 'asdf', 'asdf', 'fdsa']\n",
    "another_list = [18, 20, 42, 'asdf', 'c']\n",
    "a_set = set(a_list)\n",
    "another_set = set(another_list)\n",
    "\n",
    "print('a_set length:', len(a_set), '\\n')\n",
    "\n",
    "# if multiple elements have the same value in the parent list, then they will be reduced to one element with the value\n",
    "print('a_set from a_list:\\n', pformat(a_set), '\\n')\n",
    "print('another_set from another_list:\\n', pformat(another_set), '\\n')\n",
    "\n",
    "# what's interesting about sets, except for immediate uniqueness, is to ability to create fast intersections\n",
    "print('elements of a_set not in another_set:\\n', pformat(a_set - another_set), '\\n')\n",
    "print('elements of another_set not in a_set:\\n', pformat(another_set - a_set), '\\n')\n",
    "\n",
    "# sets can also be converted back to lists\n",
    "intersected_list = list(a_set - another_set)\n",
    "print('intersected_list from a_set - another_set:\\n', pformat(intersected_list), '\\n')"
   ]
  },
  {
   "source": [
    "## - dictionaries"
   ],
   "cell_type": "markdown",
   "metadata": {}
  },
  {
   "cell_type": "code",
   "execution_count": 2,
   "metadata": {},
   "outputs": [
    {
     "output_type": "stream",
     "name": "stdout",
     "text": [
      "a_dictionary length: 6 \n\n.keys():\n dict_keys(['key1', 'an_int', 'a float', 'a_list', 'another_dict', 5]) \n\n.values():\n dict_values(['value1', 42, 5.0, ['key1', 1, 6.0, -15.666], {'its_over': 9000, 'just_testing': True}, 'five']) \n\n.items():\n dict_items([('key1', 'value1'), ('an_int', 42), ('a float', 5.0), ('a_list', ['key1', 1, 6.0, -15.666]), ('another_dict', {'its_over': 9000, 'just_testing': True}), (5, 'five')]) \n\n'key1' before: 'value1' \n\n'key1' after: 'changed_value' \n\n"
     ]
    }
   ],
   "source": [
    "from pprint import pprint, pformat\n",
    "\n",
    "a_dictionary = {\n",
    "    'key1': 'value1',\n",
    "    'an_int': 42,\n",
    "    'a float': 5.0,\n",
    "    'a_list': [\n",
    "        'key1',\n",
    "        1,\n",
    "        6.0,\n",
    "        -15.666\n",
    "    ],\n",
    "    'another_dict': {\n",
    "        'its_over': 9000,\n",
    "        'just_testing': True\n",
    "    },\n",
    "    5: 'five'\n",
    "}\n",
    "\n",
    "print('a_dictionary length:', len(a_dictionary), '\\n')\n",
    "\n",
    "# functions to get keys, values and key-value pairs as lists:\n",
    "print('.keys():\\n', pformat(a_dictionary.keys()), '\\n')\n",
    "print('.values():\\n', pformat(a_dictionary.values()), '\\n')\n",
    "print('.items():\\n', pformat(a_dictionary.items()), '\\n')\n",
    "\n",
    "# access and change the value of a key:\n",
    "print('\\'key1\\' before:', pformat(a_dictionary['key1']), '\\n')\n",
    "a_dictionary['key1'] = 'changed_value'\n",
    "print('\\'key1\\' after:', pformat(a_dictionary['key1']), '\\n')\n"
   ]
  }
 ]
}