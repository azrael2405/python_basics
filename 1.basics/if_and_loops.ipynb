{
 "metadata": {
  "language_info": {
   "codemirror_mode": {
    "name": "ipython",
    "version": 3
   },
   "file_extension": ".py",
   "mimetype": "text/x-python",
   "name": "python",
   "nbconvert_exporter": "python",
   "pygments_lexer": "ipython3",
   "version": "3.8.5"
  },
  "orig_nbformat": 4,
  "kernelspec": {
   "name": "python3",
   "display_name": "Python 3.8.5 32-bit"
  },
  "interpreter": {
   "hash": "241fb731dd6f5ea65101631a1c9247244b987683021d8766a5bc39b0fc54124d"
  }
 },
 "nbformat": 4,
 "nbformat_minor": 2,
 "cells": [
  {
   "source": [
    "# DISCLAIMER\n",
    "- there are no {} for if-statements and loops. Everything executed within a statement or loop will be indented\n",
    "- indentation should be spaces only, standard is 4 spaces (VSCode has an )\n",
    "- DO NOT MIX SPACES AND TABS for indentation\n"
   ],
   "cell_type": "markdown",
   "metadata": {}
  },
  {
   "source": [
    "# if-statements\n",
    "\n",
    "- if-statements are used for branched coding, meaning, IF the provided statement is true THEN a set of instructions will be executed ELSE another set of instructions will be executed\n",
    "\n",
    "- normal structure:\n",
    "```\n",
    "if a == 0:\n",
    "    instruction 1\n",
    "    instruction 2\n",
    "    instruction 3\n",
    "elif a == 1:\n",
    "    instruction 3\n",
    "    instruction 2\n",
    "    instruction 4\n",
    "else:\n",
    "    instruction 5\n",
    "```\n",
    "\n",
    "- chaining multiple statements is possible with AND and OR\n",
    "- comparative operators:\n",
    "    - ==\n",
    "    - <\n",
    "    - <=\n",
    "    - \\>\n",
    "    - \\>=\n",
    "    - not\n",
    "    - in\n"
   ],
   "cell_type": "markdown",
   "metadata": {}
  },
  {
   "cell_type": "code",
   "execution_count": 7,
   "metadata": {},
   "outputs": [
    {
     "output_type": "stream",
     "name": "stdout",
     "text": [
      "a should be greater than 2\n"
     ]
    }
   ],
   "source": [
    "a = 5\n",
    "\n",
    "if a < 0:\n",
    "    print('a is below zero')\n",
    "elif a == 0:\n",
    "    print('a is exactly zero')\n",
    "elif a <= 2:\n",
    "    print('a is exactly 2 or below. a should be greater than zero because of previous elif statement')\n",
    "elif a > 2:\n",
    "    print('a should be greater than 2')\n",
    "elif a >= 4:\n",
    "    #This line will not be reached, because 4 is greater than 2, so previous statement will be True first\n",
    "    print('a is greater or equal to 4.')\n",
    "else:\n",
    "    print('a is not found in previous statements')"
   ]
  },
  {
   "source": [
    "# Loops\n",
    "\n",
    "there are 2 loops: while and for\n",
    "\n",
    "- while loops are only used in special circumstances (endless loops, unknown transfer rates, etc.)\n",
    "- for loops are mainly used in python for iterating over collections, generators and more\n"
   ],
   "cell_type": "markdown",
   "metadata": {}
  },
  {
   "cell_type": "code",
   "execution_count": 20,
   "metadata": {},
   "outputs": [
    {
     "output_type": "stream",
     "name": "stdout",
     "text": [
      "element: 1 ; equals: False\nelement: 1 ; equals: False\nelement: 2 ; equals: False\nelement: 2 ; equals: False\nelement: 3 ; equals: False\nelement: 4 ; equals: False\nelement: 5 ; equals: False\nelement: a ; equals: False\nelement: b ; equals: False\nelement: c ; equals: True\nelement: c ; equals: True\nelement: asdf ; equals: True\nelement: asdf ; equals: True\nelement: fdsa ; equals: False\n\nkey: key1 ; value: value1\nkey: an_int ; value: 42\nkey: a float ; value: 5.0\nkey: a_list ; value: ['key1', 1, 6.0, -15.666]\nkey: another_dict ; value: {'its_over': 9000, 'just_testing': True}\nkey: 5 ; value: five\n\nkey: key1 ; value: value1\nkey: an_int ; value: 42\nkey: a float ; value: 5.0\nkey: a_list ; value: ['key1', 1, 6.0, -15.666]\nkey: another_dict ; value: {'its_over': 9000, 'just_testing': True}\nkey: 5 ; value: five\n{42: 'an_int_new'}\n"
     ]
    }
   ],
   "source": [
    "a_list = [1, 1, 2, 2, 3, 4, 5, 'a', 'b', 'c', 'c', 'asdf', 'asdf', 'fdsa']\n",
    "another_list = [18, 20, 42, 'asdf', 'c']\n",
    "a_dictionary = {\n",
    "    'key1': 'value1',\n",
    "    'an_int': 42,\n",
    "    'a float': 5.0,\n",
    "    'a_list': [\n",
    "        'key1',\n",
    "        1,\n",
    "        6.0,\n",
    "        -15.666\n",
    "    ],\n",
    "    'another_dict': {\n",
    "        'its_over': 9000,\n",
    "        'just_testing': True\n",
    "    },\n",
    "    5: 'five'\n",
    "}\n",
    "\n",
    "# for element in a_list:\n",
    "#     print('element:', element)\n",
    "#     for another_element in another_list:\n",
    "#         print ('another_element:', another_element)\n",
    "#         print('equals?:', element == another_element)\n",
    "\n",
    "# faster: use in to check if element is in another_list\n",
    "# for element in a_list:\n",
    "#     print('element:', element)\n",
    "#     print('equals:', element in another_list)\n",
    "\n",
    "# even faster: list comprehensions\n",
    "a = [\n",
    "    print('element:', element, '; equals:', element in another_list) # output\n",
    "    for element in a_list                                            # loop\n",
    "    # every elemnt can also be filtered with an if statement\n",
    "    # if element == 5\n",
    "]\n",
    "print()\n",
    "# dictionaries can also be looped with the use of .items(), .values() or .keys()\n",
    "for key, value in a_dictionary.items():\n",
    "    print('key:', key, '; value:', value)\n",
    "\n",
    "print()\n",
    "\n",
    "# or using list comprehension\n",
    "b = [\n",
    "    print('key:', key, '; value:', value)   # output\n",
    "    for key, value in a_dictionary.items()  # loop\n",
    "]\n",
    "\n",
    "# or create a dictionary with dictionary comprehension (basically the same as list comprehension, but output is a key: value pair)\n",
    "new_dict = {\n",
    "    value: '{}_new'.format(key)\n",
    "    for key, value in a_dictionary.items()\n",
    "    if type(key) == type(str()) and type(value) == type(int())\n",
    "}\n",
    "from pprint import pprint\n",
    "pprint(new_dict)\n"
   ]
  }
 ]
}